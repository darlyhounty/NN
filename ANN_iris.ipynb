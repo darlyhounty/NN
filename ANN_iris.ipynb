{
 "cells": [
  {
   "cell_type": "code",
   "execution_count": 1,
   "id": "48df4411",
   "metadata": {},
   "outputs": [],
   "source": [
    "%matplotlib inline\n",
    "import numpy as np\n",
    "import matplotlib.pyplot as plt"
   ]
  },
  {
   "cell_type": "code",
   "execution_count": 2,
   "id": "fb99d1c0",
   "metadata": {},
   "outputs": [],
   "source": [
    "from sklearn import datasets  # 加载数据集\n",
    "import numpy as np # 数据处理工具\n",
    "from sklearn.neural_network import MLPClassifier # 导入神经网络\n",
    "np.random.seed(0)  # 保证每次数据唯一性\n",
    "iris=datasets.load_iris()\n",
    "iris_x=iris.data  # 属性\n",
    "iris_y=iris.target # 标签\n",
    "indices = np.random.permutation(len(iris_x)) # 随机产生一个序列，或是返回一个排列范围，为拆分数据做准备\n",
    "iris_x_train = iris_x[indices[:-10]]\n",
    "iris_y_train = iris_y[indices[:-10]]\n",
    "iris_x_test  = iris_x[indices[-10:]]\n",
    "iris_y_test  = iris_y[indices[-10:]]"
   ]
  },
  {
   "cell_type": "code",
   "execution_count": 7,
   "id": "cbb61606",
   "metadata": {},
   "outputs": [
    {
     "name": "stdout",
     "output_type": "stream",
     "text": [
      "Accuracy: 0.9\n",
      "layers nums: 4\n"
     ]
    }
   ],
   "source": [
    "#slover 是权重优化策略； activation 表示选择的激活函数，这里没有设置，默认是 relu；alpha 是惩罚参数；hidden_layer_sizes 是隐藏层大小，长度就是隐藏层的数量，每一个大小就是设置每层隐藏层的神经元数量；random_state 是初始化所使用的随机项；\n",
    "clf = MLPClassifier(solver='lbfgs', alpha=1e-5,\n",
    "                   hidden_layer_sizes=(10, 3), random_state=1)\n",
    "clf.fit(iris_x_train,iris_y_train) #拟合\n",
    "iris_y_predict = clf.predict(iris_x_test)\n",
    "score=clf.score(iris_x_test,iris_y_test,sample_weight=None)\n",
    "print('Accuracy:',score)\n",
    "print('layers nums:',clf.n_layers_)"
   ]
  },
  {
   "cell_type": "code",
   "execution_count": null,
   "id": "15b3b25b",
   "metadata": {},
   "outputs": [],
   "source": []
  }
 ],
 "metadata": {
  "kernelspec": {
   "display_name": "Python 3",
   "language": "python",
   "name": "python3"
  },
  "language_info": {
   "codemirror_mode": {
    "name": "ipython",
    "version": 3
   },
   "file_extension": ".py",
   "mimetype": "text/x-python",
   "name": "python",
   "nbconvert_exporter": "python",
   "pygments_lexer": "ipython3",
   "version": "3.8.8"
  }
 },
 "nbformat": 4,
 "nbformat_minor": 5
}
